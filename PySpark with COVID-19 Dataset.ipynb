{
 "cells": [
  {
   "cell_type": "markdown",
   "metadata": {},
   "source": [
    "# PySpark module with COVID-19 Dataset"
   ]
  },
  {
   "cell_type": "code",
   "execution_count": 2,
   "metadata": {},
   "outputs": [],
   "source": [
    "import pandas as pd\n",
    "import numpy as np\n",
    "from datetime import date, timedelta, datetime\n",
    "import time\n",
    "\n",
    "import pyspark # only run this after findspark.init()\n",
    "from pyspark.sql import SparkSession, SQLContext\n",
    "from pyspark.context import SparkContext\n",
    "from pyspark.sql.functions import * \n",
    "from pyspark.sql.types import * "
   ]
  },
  {
   "cell_type": "code",
   "execution_count": 3,
   "metadata": {},
   "outputs": [],
   "source": [
    "# Initiate the Spark Session\n",
    "spark = SparkSession.builder.appName('covid-example').getOrCreate()"
   ]
  },
  {
   "cell_type": "code",
   "execution_count": 4,
   "metadata": {},
   "outputs": [
    {
     "data": {
      "text/html": [
       "\n",
       "            <div>\n",
       "                <p><b>SparkSession - in-memory</b></p>\n",
       "                \n",
       "        <div>\n",
       "            <p><b>SparkContext</b></p>\n",
       "\n",
       "            <p><a href=\"http://LAPTOP-VN7979FI:4043\">Spark UI</a></p>\n",
       "\n",
       "            <dl>\n",
       "              <dt>Version</dt>\n",
       "                <dd><code>v3.3.1</code></dd>\n",
       "              <dt>Master</dt>\n",
       "                <dd><code>local[*]</code></dd>\n",
       "              <dt>AppName</dt>\n",
       "                <dd><code>covid-example</code></dd>\n",
       "            </dl>\n",
       "        </div>\n",
       "        \n",
       "            </div>\n",
       "        "
      ],
      "text/plain": [
       "<pyspark.sql.session.SparkSession at 0x257632c0cd0>"
      ]
     },
     "execution_count": 4,
     "metadata": {},
     "output_type": "execute_result"
    }
   ],
   "source": [
    "spark"
   ]
  },
  {
   "cell_type": "markdown",
   "metadata": {},
   "source": [
    "## Data\n",
    " We will be working with the Data Science for COVID-19 in South Korea, which is one of the most detailed datasets on the internet for COVID."
   ]
  },
  {
   "cell_type": "markdown",
   "metadata": {},
   "source": [
    "Data can be found in this kaggle URL [Link](https://www.kaggle.com/kimjihoo/coronavirusdataset)"
   ]
  },
  {
   "cell_type": "markdown",
   "metadata": {},
   "source": [
    "### 1. Basic Functions"
   ]
  },
  {
   "cell_type": "markdown",
   "metadata": {},
   "source": [
    "#### [1] Load (Read) the data"
   ]
  },
  {
   "cell_type": "code",
   "execution_count": 5,
   "metadata": {},
   "outputs": [],
   "source": [
    "cases = spark.read.load(\"./data/Case.csv\",\n",
    "                        format=\"csv\",\n",
    "                        sep=\",\",\n",
    "                        header=\"true\")"
   ]
  },
  {
   "cell_type": "code",
   "execution_count": 6,
   "metadata": {},
   "outputs": [
    {
     "name": "stdout",
     "output_type": "stream",
     "text": [
      "+--------+--------+---------------+-----+--------------------+---------+---------+----------+\n",
      "| case_id|province|           city|group|      infection_case|confirmed| latitude| longitude|\n",
      "+--------+--------+---------------+-----+--------------------+---------+---------+----------+\n",
      "| 1000001|   Seoul|     Yongsan-gu| TRUE|       Itaewon Clubs|      139|37.538621|126.992652|\n",
      "| 1000002|   Seoul|      Gwanak-gu| TRUE|             Richway|      119| 37.48208|126.901384|\n",
      "| 1000003|   Seoul|        Guro-gu| TRUE| Guro-gu Call Center|       95|37.508163|126.884387|\n",
      "| 1000004|   Seoul|   Yangcheon-gu| TRUE|Yangcheon Table T...|       43|37.546061|126.874209|\n",
      "| 1000005|   Seoul|      Dobong-gu| TRUE|     Day Care Center|       43|37.679422|127.044374|\n",
      "| 1000006|   Seoul|        Guro-gu| TRUE|Manmin Central Ch...|       41|37.481059|126.894343|\n",
      "| 1000007|   Seoul|from other city| TRUE|SMR Newly Planted...|       36|        -|         -|\n",
      "| 1000008|   Seoul|  Dongdaemun-gu| TRUE|       Dongan Church|       17|37.592888|127.056766|\n",
      "| 1000009|   Seoul|from other city| TRUE|Coupang Logistics...|       25|        -|         -|\n",
      "| 1000010|   Seoul|      Gwanak-gu| TRUE|     Wangsung Church|       30|37.481735|126.930121|\n",
      "| 1000011|   Seoul|   Eunpyeong-gu| TRUE|Eunpyeong St. Mar...|       14| 37.63369|  126.9165|\n",
      "| 1000012|   Seoul|   Seongdong-gu| TRUE|    Seongdong-gu APT|       13| 37.55713|  127.0403|\n",
      "| 1000013|   Seoul|      Jongno-gu| TRUE|Jongno Community ...|       10| 37.57681|   127.006|\n",
      "| 1000014|   Seoul|     Gangnam-gu| TRUE|Samsung Medical C...|        7| 37.48825| 127.08559|\n",
      "| 1000015|   Seoul|        Jung-gu| TRUE|Jung-gu Fashion C...|        7|37.562405|126.984377|\n",
      "| 1000016|   Seoul|   Seodaemun-gu| TRUE|  Yeonana News Class|        5|37.558147|126.943799|\n",
      "| 1000017|   Seoul|      Jongno-gu| TRUE|Korea Campus Crus...|        7|37.594782|126.968022|\n",
      "| 1000018|   Seoul|     Gangnam-gu| TRUE|Gangnam Yeoksam-d...|        6|        -|         -|\n",
      "| 1000019|   Seoul|from other city| TRUE|Daejeon door-to-d...|        1|        -|         -|\n",
      "| 1000020|   Seoul|   Geumcheon-gu| TRUE|Geumcheon-gu rice...|        6|        -|         -|\n",
      "+--------+--------+---------------+-----+--------------------+---------+---------+----------+\n",
      "only showing top 20 rows\n",
      "\n"
     ]
    }
   ],
   "source": [
    "# First few rows in the file\n",
    "cases.show()"
   ]
  },
  {
   "cell_type": "markdown",
   "metadata": {},
   "source": [
    "It looks ok right now, but sometimes as we the number of columns increases, the formatting becomes not too great. I have noticed that the following trick helps in displaying in pandas format in my Jupyter Notebook. \n",
    "\n",
    "The **.toPandas()** function converts a **Spark Dataframe** into a **Pandas Dataframe**, which is much easier to play with."
   ]
  },
  {
   "cell_type": "code",
   "execution_count": 7,
   "metadata": {},
   "outputs": [
    {
     "data": {
      "text/html": [
       "<div>\n",
       "<style scoped>\n",
       "    .dataframe tbody tr th:only-of-type {\n",
       "        vertical-align: middle;\n",
       "    }\n",
       "\n",
       "    .dataframe tbody tr th {\n",
       "        vertical-align: top;\n",
       "    }\n",
       "\n",
       "    .dataframe thead th {\n",
       "        text-align: right;\n",
       "    }\n",
       "</style>\n",
       "<table border=\"1\" class=\"dataframe\">\n",
       "  <thead>\n",
       "    <tr style=\"text-align: right;\">\n",
       "      <th></th>\n",
       "      <th>case_id</th>\n",
       "      <th>province</th>\n",
       "      <th>city</th>\n",
       "      <th>group</th>\n",
       "      <th>infection_case</th>\n",
       "      <th>confirmed</th>\n",
       "      <th>latitude</th>\n",
       "      <th>longitude</th>\n",
       "    </tr>\n",
       "  </thead>\n",
       "  <tbody>\n",
       "    <tr>\n",
       "      <th>0</th>\n",
       "      <td>1000001</td>\n",
       "      <td>Seoul</td>\n",
       "      <td>Yongsan-gu</td>\n",
       "      <td>TRUE</td>\n",
       "      <td>Itaewon Clubs</td>\n",
       "      <td>139</td>\n",
       "      <td>37.538621</td>\n",
       "      <td>126.992652</td>\n",
       "    </tr>\n",
       "    <tr>\n",
       "      <th>1</th>\n",
       "      <td>1000002</td>\n",
       "      <td>Seoul</td>\n",
       "      <td>Gwanak-gu</td>\n",
       "      <td>TRUE</td>\n",
       "      <td>Richway</td>\n",
       "      <td>119</td>\n",
       "      <td>37.48208</td>\n",
       "      <td>126.901384</td>\n",
       "    </tr>\n",
       "    <tr>\n",
       "      <th>2</th>\n",
       "      <td>1000003</td>\n",
       "      <td>Seoul</td>\n",
       "      <td>Guro-gu</td>\n",
       "      <td>TRUE</td>\n",
       "      <td>Guro-gu Call Center</td>\n",
       "      <td>95</td>\n",
       "      <td>37.508163</td>\n",
       "      <td>126.884387</td>\n",
       "    </tr>\n",
       "    <tr>\n",
       "      <th>3</th>\n",
       "      <td>1000004</td>\n",
       "      <td>Seoul</td>\n",
       "      <td>Yangcheon-gu</td>\n",
       "      <td>TRUE</td>\n",
       "      <td>Yangcheon Table Tennis Club</td>\n",
       "      <td>43</td>\n",
       "      <td>37.546061</td>\n",
       "      <td>126.874209</td>\n",
       "    </tr>\n",
       "    <tr>\n",
       "      <th>4</th>\n",
       "      <td>1000005</td>\n",
       "      <td>Seoul</td>\n",
       "      <td>Dobong-gu</td>\n",
       "      <td>TRUE</td>\n",
       "      <td>Day Care Center</td>\n",
       "      <td>43</td>\n",
       "      <td>37.679422</td>\n",
       "      <td>127.044374</td>\n",
       "    </tr>\n",
       "    <tr>\n",
       "      <th>5</th>\n",
       "      <td>1000006</td>\n",
       "      <td>Seoul</td>\n",
       "      <td>Guro-gu</td>\n",
       "      <td>TRUE</td>\n",
       "      <td>Manmin Central Church</td>\n",
       "      <td>41</td>\n",
       "      <td>37.481059</td>\n",
       "      <td>126.894343</td>\n",
       "    </tr>\n",
       "    <tr>\n",
       "      <th>6</th>\n",
       "      <td>1000007</td>\n",
       "      <td>Seoul</td>\n",
       "      <td>from other city</td>\n",
       "      <td>TRUE</td>\n",
       "      <td>SMR Newly Planted Churches Group</td>\n",
       "      <td>36</td>\n",
       "      <td>-</td>\n",
       "      <td>-</td>\n",
       "    </tr>\n",
       "    <tr>\n",
       "      <th>7</th>\n",
       "      <td>1000008</td>\n",
       "      <td>Seoul</td>\n",
       "      <td>Dongdaemun-gu</td>\n",
       "      <td>TRUE</td>\n",
       "      <td>Dongan Church</td>\n",
       "      <td>17</td>\n",
       "      <td>37.592888</td>\n",
       "      <td>127.056766</td>\n",
       "    </tr>\n",
       "    <tr>\n",
       "      <th>8</th>\n",
       "      <td>1000009</td>\n",
       "      <td>Seoul</td>\n",
       "      <td>from other city</td>\n",
       "      <td>TRUE</td>\n",
       "      <td>Coupang Logistics Center</td>\n",
       "      <td>25</td>\n",
       "      <td>-</td>\n",
       "      <td>-</td>\n",
       "    </tr>\n",
       "    <tr>\n",
       "      <th>9</th>\n",
       "      <td>1000010</td>\n",
       "      <td>Seoul</td>\n",
       "      <td>Gwanak-gu</td>\n",
       "      <td>TRUE</td>\n",
       "      <td>Wangsung Church</td>\n",
       "      <td>30</td>\n",
       "      <td>37.481735</td>\n",
       "      <td>126.930121</td>\n",
       "    </tr>\n",
       "  </tbody>\n",
       "</table>\n",
       "</div>"
      ],
      "text/plain": [
       "   case_id province             city group                    infection_case  \\\n",
       "0  1000001    Seoul       Yongsan-gu  TRUE                     Itaewon Clubs   \n",
       "1  1000002    Seoul        Gwanak-gu  TRUE                           Richway   \n",
       "2  1000003    Seoul          Guro-gu  TRUE               Guro-gu Call Center   \n",
       "3  1000004    Seoul     Yangcheon-gu  TRUE       Yangcheon Table Tennis Club   \n",
       "4  1000005    Seoul        Dobong-gu  TRUE                   Day Care Center   \n",
       "5  1000006    Seoul          Guro-gu  TRUE             Manmin Central Church   \n",
       "6  1000007    Seoul  from other city  TRUE  SMR Newly Planted Churches Group   \n",
       "7  1000008    Seoul    Dongdaemun-gu  TRUE                     Dongan Church   \n",
       "8  1000009    Seoul  from other city  TRUE          Coupang Logistics Center   \n",
       "9  1000010    Seoul        Gwanak-gu  TRUE                   Wangsung Church   \n",
       "\n",
       "  confirmed   latitude   longitude  \n",
       "0       139  37.538621  126.992652  \n",
       "1       119   37.48208  126.901384  \n",
       "2        95  37.508163  126.884387  \n",
       "3        43  37.546061  126.874209  \n",
       "4        43  37.679422  127.044374  \n",
       "5        41  37.481059  126.894343  \n",
       "6        36          -           -  \n",
       "7        17  37.592888  127.056766  \n",
       "8        25          -           -  \n",
       "9        30  37.481735  126.930121  "
      ]
     },
     "execution_count": 7,
     "metadata": {},
     "output_type": "execute_result"
    }
   ],
   "source": [
    "cases.limit(10).toPandas()"
   ]
  },
  {
   "cell_type": "markdown",
   "metadata": {},
   "source": [
    "#### [2] Change Column Names"
   ]
  },
  {
   "cell_type": "markdown",
   "metadata": {},
   "source": [
    "To change a single column,"
   ]
  },
  {
   "cell_type": "code",
   "execution_count": 8,
   "metadata": {},
   "outputs": [],
   "source": [
    "cases = cases.withColumnRenamed(\"infection_case\",\"infection_source\")"
   ]
  },
  {
   "cell_type": "markdown",
   "metadata": {},
   "source": [
    "To change all columns,"
   ]
  },
  {
   "cell_type": "code",
   "execution_count": 9,
   "metadata": {},
   "outputs": [],
   "source": [
    "cases = cases.toDF(*['case_id', 'province', 'city', 'group', 'infection_case', 'confirmed',\n",
    "       'latitude', 'longitude'])"
   ]
  },
  {
   "cell_type": "code",
   "execution_count": 10,
   "metadata": {},
   "outputs": [
    {
     "name": "stdout",
     "output_type": "stream",
     "text": [
      "+-------+--------+---------------+-----+--------------------+---------+---------+----------+\n",
      "|case_id|province|           city|group|      infection_case|confirmed| latitude| longitude|\n",
      "+-------+--------+---------------+-----+--------------------+---------+---------+----------+\n",
      "|1000001|   Seoul|     Yongsan-gu| TRUE|       Itaewon Clubs|      139|37.538621|126.992652|\n",
      "|1000002|   Seoul|      Gwanak-gu| TRUE|             Richway|      119| 37.48208|126.901384|\n",
      "|1000003|   Seoul|        Guro-gu| TRUE| Guro-gu Call Center|       95|37.508163|126.884387|\n",
      "|1000004|   Seoul|   Yangcheon-gu| TRUE|Yangcheon Table T...|       43|37.546061|126.874209|\n",
      "|1000005|   Seoul|      Dobong-gu| TRUE|     Day Care Center|       43|37.679422|127.044374|\n",
      "|1000006|   Seoul|        Guro-gu| TRUE|Manmin Central Ch...|       41|37.481059|126.894343|\n",
      "|1000007|   Seoul|from other city| TRUE|SMR Newly Planted...|       36|        -|         -|\n",
      "|1000008|   Seoul|  Dongdaemun-gu| TRUE|       Dongan Church|       17|37.592888|127.056766|\n",
      "|1000009|   Seoul|from other city| TRUE|Coupang Logistics...|       25|        -|         -|\n",
      "|1000010|   Seoul|      Gwanak-gu| TRUE|     Wangsung Church|       30|37.481735|126.930121|\n",
      "|1000011|   Seoul|   Eunpyeong-gu| TRUE|Eunpyeong St. Mar...|       14| 37.63369|  126.9165|\n",
      "|1000012|   Seoul|   Seongdong-gu| TRUE|    Seongdong-gu APT|       13| 37.55713|  127.0403|\n",
      "|1000013|   Seoul|      Jongno-gu| TRUE|Jongno Community ...|       10| 37.57681|   127.006|\n",
      "|1000014|   Seoul|     Gangnam-gu| TRUE|Samsung Medical C...|        7| 37.48825| 127.08559|\n",
      "|1000015|   Seoul|        Jung-gu| TRUE|Jung-gu Fashion C...|        7|37.562405|126.984377|\n",
      "|1000016|   Seoul|   Seodaemun-gu| TRUE|  Yeonana News Class|        5|37.558147|126.943799|\n",
      "|1000017|   Seoul|      Jongno-gu| TRUE|Korea Campus Crus...|        7|37.594782|126.968022|\n",
      "|1000018|   Seoul|     Gangnam-gu| TRUE|Gangnam Yeoksam-d...|        6|        -|         -|\n",
      "|1000019|   Seoul|from other city| TRUE|Daejeon door-to-d...|        1|        -|         -|\n",
      "|1000020|   Seoul|   Geumcheon-gu| TRUE|Geumcheon-gu rice...|        6|        -|         -|\n",
      "+-------+--------+---------------+-----+--------------------+---------+---------+----------+\n",
      "only showing top 20 rows\n",
      "\n"
     ]
    }
   ],
   "source": [
    "cases.show()"
   ]
  },
  {
   "cell_type": "markdown",
   "metadata": {},
   "source": [
    "#### [3] Change Column Names"
   ]
  },
  {
   "cell_type": "markdown",
   "metadata": {},
   "source": [
    "We can select a subset of columns using the **select** "
   ]
  },
  {
   "cell_type": "code",
   "execution_count": 11,
   "metadata": {},
   "outputs": [
    {
     "name": "stdout",
     "output_type": "stream",
     "text": [
      "+--------+---------------+--------------------+---------+\n",
      "|province|           city|      infection_case|confirmed|\n",
      "+--------+---------------+--------------------+---------+\n",
      "|   Seoul|     Yongsan-gu|       Itaewon Clubs|      139|\n",
      "|   Seoul|      Gwanak-gu|             Richway|      119|\n",
      "|   Seoul|        Guro-gu| Guro-gu Call Center|       95|\n",
      "|   Seoul|   Yangcheon-gu|Yangcheon Table T...|       43|\n",
      "|   Seoul|      Dobong-gu|     Day Care Center|       43|\n",
      "|   Seoul|        Guro-gu|Manmin Central Ch...|       41|\n",
      "|   Seoul|from other city|SMR Newly Planted...|       36|\n",
      "|   Seoul|  Dongdaemun-gu|       Dongan Church|       17|\n",
      "|   Seoul|from other city|Coupang Logistics...|       25|\n",
      "|   Seoul|      Gwanak-gu|     Wangsung Church|       30|\n",
      "|   Seoul|   Eunpyeong-gu|Eunpyeong St. Mar...|       14|\n",
      "|   Seoul|   Seongdong-gu|    Seongdong-gu APT|       13|\n",
      "|   Seoul|      Jongno-gu|Jongno Community ...|       10|\n",
      "|   Seoul|     Gangnam-gu|Samsung Medical C...|        7|\n",
      "|   Seoul|        Jung-gu|Jung-gu Fashion C...|        7|\n",
      "|   Seoul|   Seodaemun-gu|  Yeonana News Class|        5|\n",
      "|   Seoul|      Jongno-gu|Korea Campus Crus...|        7|\n",
      "|   Seoul|     Gangnam-gu|Gangnam Yeoksam-d...|        6|\n",
      "|   Seoul|from other city|Daejeon door-to-d...|        1|\n",
      "|   Seoul|   Geumcheon-gu|Geumcheon-gu rice...|        6|\n",
      "+--------+---------------+--------------------+---------+\n",
      "only showing top 20 rows\n",
      "\n"
     ]
    }
   ],
   "source": [
    "cases = cases.select('province','city','infection_case','confirmed')\n",
    "cases.show()"
   ]
  },
  {
   "cell_type": "markdown",
   "metadata": {},
   "source": [
    "#### [4] Sort by Column"
   ]
  },
  {
   "cell_type": "code",
   "execution_count": 15,
   "metadata": {},
   "outputs": [],
   "source": [
    "# To convert str to int\n",
    "# cases = cases.withColumn(\"confirmed\", cases.confirmed.cast('int'))"
   ]
  },
  {
   "cell_type": "code",
   "execution_count": 16,
   "metadata": {},
   "outputs": [
    {
     "name": "stdout",
     "output_type": "stream",
     "text": [
      "+-----------------+---------------+--------------------+---------+\n",
      "|         province|           city|      infection_case|confirmed|\n",
      "+-----------------+---------------+--------------------+---------+\n",
      "|          Jeju-do|              -|contact with patient|        0|\n",
      "|       Gangwon-do|              -|contact with patient|        0|\n",
      "|            Seoul|     Gangseo-gu|SJ Investment Cal...|        0|\n",
      "|           Sejong|              -|                 etc|        1|\n",
      "|           Sejong|from other city|  Shincheonji Church|        1|\n",
      "|            Seoul|              -|         Orange Life|        1|\n",
      "|            Seoul|from other city|Anyang Gunpo Past...|        1|\n",
      "|            Seoul|from other city|Daejeon door-to-d...|        1|\n",
      "|     Jeollabuk-do|from other city|  Shincheonji Church|        1|\n",
      "|     Jeollanam-do|from other city|  Shincheonji Church|        1|\n",
      "|            Seoul|     Gangnam-gu|Gangnam Dongin Ch...|        1|\n",
      "|            Busan|from other city|Cheongdo Daenam H...|        1|\n",
      "|          Gwangju|              -|                 etc|        1|\n",
      "|          Jeju-do|from other city|       Itaewon Clubs|        1|\n",
      "|      Gyeonggi-do|       Suwon-si|Suwon Saeng Myeon...|       10|\n",
      "|Chungcheongnam-do|from other city|Door-to-door sale...|       10|\n",
      "|       Gangwon-do|from other city|Uijeongbu St. Mar...|       10|\n",
      "|            Seoul|      Jongno-gu|Jongno Community ...|       10|\n",
      "| Gyeongsangnam-do|   Geochang-gun|     Geochang Church|       10|\n",
      "| Gyeongsangbuk-do|        Gumi-si|    Gumi Elim Church|       10|\n",
      "+-----------------+---------------+--------------------+---------+\n",
      "only showing top 20 rows\n",
      "\n"
     ]
    }
   ],
   "source": [
    "# Simple sort\n",
    "cases.sort(\"confirmed\", ascending =True).show()"
   ]
  },
  {
   "cell_type": "code",
   "execution_count": 14,
   "metadata": {},
   "outputs": [
    {
     "name": "stdout",
     "output_type": "stream",
     "text": [
      "+-----------------+---------------+--------------------+---------+\n",
      "|         province|           city|      infection_case|confirmed|\n",
      "+-----------------+---------------+--------------------+---------+\n",
      "|            Seoul|        Guro-gu| Guro-gu Call Center|       95|\n",
      "|            Daegu|              -|contact with patient|      917|\n",
      "|          Gwangju|from other city|  Shincheonji Church|        9|\n",
      "| Gyeongsangnam-do|       Jinju-si|         Wings Tower|        9|\n",
      "|Chungcheongbuk-do|from other city|       Itaewon Clubs|        9|\n",
      "|Chungcheongnam-do|      Seosan-si|Seosan-si Laboratory|        9|\n",
      "|      Gyeonggi-do|              -|                 etc|       84|\n",
      "|            Seoul|from other city|  Shincheonji Church|        8|\n",
      "|           Sejong|         Sejong|gym facility in S...|        8|\n",
      "| Gyeongsangnam-do|   Geochang-gun|Geochang-gun Woon...|        8|\n",
      "|Chungcheongbuk-do|              -|contact with patient|        8|\n",
      "|            Daegu|              -|                 etc|      747|\n",
      "|            Seoul|      Jongno-gu|Korea Campus Crus...|        7|\n",
      "|          Daejeon|         Seo-gu|         Orange Town|        7|\n",
      "|            Seoul|        Jung-gu|Jung-gu Fashion C...|        7|\n",
      "|            Ulsan|              -|                 etc|        7|\n",
      "| Gyeongsangnam-do|    Changwon-si|Hanmaeum Changwon...|        7|\n",
      "|            Seoul|     Gangnam-gu|Samsung Medical C...|        7|\n",
      "|      Gyeonggi-do|from other city|Korea Campus Crus...|        7|\n",
      "| Gyeongsangnam-do|Changnyeong-gun|Changnyeong Coin ...|        7|\n",
      "+-----------------+---------------+--------------------+---------+\n",
      "only showing top 20 rows\n",
      "\n"
     ]
    }
   ],
   "source": [
    "# Descending Sort\n",
    "from pyspark.sql import functions as F\n",
    "\n",
    "cases.sort(F.desc(\"confirmed\")).show()"
   ]
  },
  {
   "cell_type": "markdown",
   "metadata": {},
   "source": [
    "#### [5] Change Column Type"
   ]
  },
  {
   "cell_type": "code",
   "execution_count": 14,
   "metadata": {},
   "outputs": [
    {
     "name": "stdout",
     "output_type": "stream",
     "text": [
      "+--------+---------------+--------------------+---------+\n",
      "|province|           city|      infection_case|confirmed|\n",
      "+--------+---------------+--------------------+---------+\n",
      "|   Seoul|     Yongsan-gu|       Itaewon Clubs|      139|\n",
      "|   Seoul|      Gwanak-gu|             Richway|      119|\n",
      "|   Seoul|        Guro-gu| Guro-gu Call Center|       95|\n",
      "|   Seoul|   Yangcheon-gu|Yangcheon Table T...|       43|\n",
      "|   Seoul|      Dobong-gu|     Day Care Center|       43|\n",
      "|   Seoul|        Guro-gu|Manmin Central Ch...|       41|\n",
      "|   Seoul|from other city|SMR Newly Planted...|       36|\n",
      "|   Seoul|  Dongdaemun-gu|       Dongan Church|       17|\n",
      "|   Seoul|from other city|Coupang Logistics...|       25|\n",
      "|   Seoul|      Gwanak-gu|     Wangsung Church|       30|\n",
      "|   Seoul|   Eunpyeong-gu|Eunpyeong St. Mar...|       14|\n",
      "|   Seoul|   Seongdong-gu|    Seongdong-gu APT|       13|\n",
      "|   Seoul|      Jongno-gu|Jongno Community ...|       10|\n",
      "|   Seoul|     Gangnam-gu|Samsung Medical C...|        7|\n",
      "|   Seoul|        Jung-gu|Jung-gu Fashion C...|        7|\n",
      "|   Seoul|   Seodaemun-gu|  Yeonana News Class|        5|\n",
      "|   Seoul|      Jongno-gu|Korea Campus Crus...|        7|\n",
      "|   Seoul|     Gangnam-gu|Gangnam Yeoksam-d...|        6|\n",
      "|   Seoul|from other city|Daejeon door-to-d...|        1|\n",
      "|   Seoul|   Geumcheon-gu|Geumcheon-gu rice...|        6|\n",
      "+--------+---------------+--------------------+---------+\n",
      "only showing top 20 rows\n",
      "\n"
     ]
    }
   ],
   "source": [
    "from pyspark.sql.types import DoubleType, IntegerType, StringType\n",
    "\n",
    "cases = cases.withColumn('confirmed', F.col('confirmed').cast(IntegerType()))\n",
    "cases = cases.withColumn('city', F.col('city').cast(StringType()))\n",
    "\n",
    "cases.show()"
   ]
  },
  {
   "cell_type": "markdown",
   "metadata": {},
   "source": [
    "#### [6] Filter "
   ]
  },
  {
   "cell_type": "markdown",
   "metadata": {},
   "source": [
    "We can filter a data frame using multiple conditions using AND(&), OR(|) and NOT(~) conditions. For example, we may want to find out all the different infection_case in Daegu with more than 10 confirmed cases."
   ]
  },
  {
   "cell_type": "code",
   "execution_count": 15,
   "metadata": {},
   "outputs": [
    {
     "name": "stdout",
     "output_type": "stream",
     "text": [
      "+--------+------------+--------------------+---------+\n",
      "|province|        city|      infection_case|confirmed|\n",
      "+--------+------------+--------------------+---------+\n",
      "|   Daegu|      Nam-gu|  Shincheonji Church|     4511|\n",
      "|   Daegu|Dalseong-gun|Second Mi-Ju Hosp...|      196|\n",
      "|   Daegu|      Seo-gu|Hansarang Convale...|      124|\n",
      "|   Daegu|Dalseong-gun|Daesil Convalesce...|      101|\n",
      "|   Daegu|     Dong-gu|     Fatima Hospital|       39|\n",
      "|   Daegu|           -|     overseas inflow|       41|\n",
      "|   Daegu|           -|contact with patient|      917|\n",
      "|   Daegu|           -|                 etc|      747|\n",
      "+--------+------------+--------------------+---------+\n",
      "\n"
     ]
    }
   ],
   "source": [
    "cases.filter((cases.confirmed>10) & (cases.province=='Daegu')).show()"
   ]
  },
  {
   "cell_type": "markdown",
   "metadata": {},
   "source": [
    "#### [7] GroupBy"
   ]
  },
  {
   "cell_type": "code",
   "execution_count": 16,
   "metadata": {},
   "outputs": [
    {
     "name": "stdout",
     "output_type": "stream",
     "text": [
      "+----------------+---------------+--------------+--------------+\n",
      "|        province|           city|sum(confirmed)|max(confirmed)|\n",
      "+----------------+---------------+--------------+--------------+\n",
      "|Gyeongsangnam-do|       Jinju-si|             9|             9|\n",
      "|           Seoul|        Guro-gu|           139|            95|\n",
      "|           Seoul|     Gangnam-gu|            18|             7|\n",
      "|         Daejeon|              -|           100|            55|\n",
      "|    Jeollabuk-do|from other city|             6|             3|\n",
      "|Gyeongsangnam-do|Changnyeong-gun|             7|             7|\n",
      "|           Seoul|              -|           561|           298|\n",
      "|         Jeju-do|from other city|             1|             1|\n",
      "|Gyeongsangbuk-do|              -|           345|           190|\n",
      "|Gyeongsangnam-do|   Geochang-gun|            18|            10|\n",
      "|Gyeongsangbuk-do|        Gumi-si|            10|            10|\n",
      "|         Incheon|from other city|           117|            53|\n",
      "|           Busan|              -|            85|            36|\n",
      "|           Daegu|         Seo-gu|           124|           124|\n",
      "|           Busan|     Suyeong-gu|             5|             5|\n",
      "|     Gyeonggi-do|   Uijeongbu-si|            50|            50|\n",
      "|           Seoul|     Yongsan-gu|           139|           139|\n",
      "|           Daegu|              -|          1705|           917|\n",
      "|           Seoul|   Seodaemun-gu|             5|             5|\n",
      "|     Gyeonggi-do|    Seongnam-si|            94|            67|\n",
      "+----------------+---------------+--------------+--------------+\n",
      "only showing top 20 rows\n",
      "\n"
     ]
    }
   ],
   "source": [
    "from pyspark.sql import functions as F\n",
    "\n",
    "cases.groupBy([\"province\",\"city\"]).agg(F.sum(\"confirmed\") ,F.max(\"confirmed\")).show()"
   ]
  },
  {
   "cell_type": "markdown",
   "metadata": {},
   "source": [
    "Or if we don’t like the new column names, we can use the **alias** keyword to rename columns in the agg command itself."
   ]
  },
  {
   "cell_type": "code",
   "execution_count": 17,
   "metadata": {},
   "outputs": [
    {
     "name": "stdout",
     "output_type": "stream",
     "text": [
      "+----------------+---------------+--------------+-----------------------+\n",
      "|        province|           city|TotalConfirmed|MaxFromOneConfirmedCase|\n",
      "+----------------+---------------+--------------+-----------------------+\n",
      "|Gyeongsangnam-do|       Jinju-si|             9|                      9|\n",
      "|           Seoul|        Guro-gu|           139|                     95|\n",
      "|           Seoul|     Gangnam-gu|            18|                      7|\n",
      "|         Daejeon|              -|           100|                     55|\n",
      "|    Jeollabuk-do|from other city|             6|                      3|\n",
      "|Gyeongsangnam-do|Changnyeong-gun|             7|                      7|\n",
      "|           Seoul|              -|           561|                    298|\n",
      "|         Jeju-do|from other city|             1|                      1|\n",
      "|Gyeongsangbuk-do|              -|           345|                    190|\n",
      "|Gyeongsangnam-do|   Geochang-gun|            18|                     10|\n",
      "|Gyeongsangbuk-do|        Gumi-si|            10|                     10|\n",
      "|         Incheon|from other city|           117|                     53|\n",
      "|           Busan|              -|            85|                     36|\n",
      "|           Daegu|         Seo-gu|           124|                    124|\n",
      "|           Busan|     Suyeong-gu|             5|                      5|\n",
      "|     Gyeonggi-do|   Uijeongbu-si|            50|                     50|\n",
      "|           Seoul|     Yongsan-gu|           139|                    139|\n",
      "|           Daegu|              -|          1705|                    917|\n",
      "|           Seoul|   Seodaemun-gu|             5|                      5|\n",
      "|     Gyeonggi-do|    Seongnam-si|            94|                     67|\n",
      "+----------------+---------------+--------------+-----------------------+\n",
      "only showing top 20 rows\n",
      "\n"
     ]
    }
   ],
   "source": [
    "cases.groupBy([\"province\",\"city\"]).agg(\n",
    "    F.sum(\"confirmed\").alias(\"TotalConfirmed\"),\\\n",
    "    F.max(\"confirmed\").alias(\"MaxFromOneConfirmedCase\")\\\n",
    "    ).show()"
   ]
  },
  {
   "cell_type": "markdown",
   "metadata": {},
   "source": [
    "#### [8] Joins"
   ]
  },
  {
   "cell_type": "markdown",
   "metadata": {},
   "source": [
    "Here, We will go with the region file which contains region information such as elementary_school_count, elderly_population_ratio, etc."
   ]
  },
  {
   "cell_type": "code",
   "execution_count": 18,
   "metadata": {},
   "outputs": [
    {
     "data": {
      "text/html": [
       "<div>\n",
       "<style scoped>\n",
       "    .dataframe tbody tr th:only-of-type {\n",
       "        vertical-align: middle;\n",
       "    }\n",
       "\n",
       "    .dataframe tbody tr th {\n",
       "        vertical-align: top;\n",
       "    }\n",
       "\n",
       "    .dataframe thead th {\n",
       "        text-align: right;\n",
       "    }\n",
       "</style>\n",
       "<table border=\"1\" class=\"dataframe\">\n",
       "  <thead>\n",
       "    <tr style=\"text-align: right;\">\n",
       "      <th></th>\n",
       "      <th>code</th>\n",
       "      <th>province</th>\n",
       "      <th>city</th>\n",
       "      <th>latitude</th>\n",
       "      <th>longitude</th>\n",
       "      <th>elementary_school_count</th>\n",
       "      <th>kindergarten_count</th>\n",
       "      <th>university_count</th>\n",
       "      <th>academy_ratio</th>\n",
       "      <th>elderly_population_ratio</th>\n",
       "      <th>elderly_alone_ratio</th>\n",
       "      <th>nursing_home_count</th>\n",
       "    </tr>\n",
       "  </thead>\n",
       "  <tbody>\n",
       "    <tr>\n",
       "      <th>0</th>\n",
       "      <td>10000</td>\n",
       "      <td>Seoul</td>\n",
       "      <td>Seoul</td>\n",
       "      <td>37.566953</td>\n",
       "      <td>126.977977</td>\n",
       "      <td>607</td>\n",
       "      <td>830</td>\n",
       "      <td>48</td>\n",
       "      <td>1.44</td>\n",
       "      <td>15.38</td>\n",
       "      <td>5.8</td>\n",
       "      <td>22739</td>\n",
       "    </tr>\n",
       "    <tr>\n",
       "      <th>1</th>\n",
       "      <td>10010</td>\n",
       "      <td>Seoul</td>\n",
       "      <td>Gangnam-gu</td>\n",
       "      <td>37.518421</td>\n",
       "      <td>127.047222</td>\n",
       "      <td>33</td>\n",
       "      <td>38</td>\n",
       "      <td>0</td>\n",
       "      <td>4.18</td>\n",
       "      <td>13.17</td>\n",
       "      <td>4.3</td>\n",
       "      <td>3088</td>\n",
       "    </tr>\n",
       "    <tr>\n",
       "      <th>2</th>\n",
       "      <td>10020</td>\n",
       "      <td>Seoul</td>\n",
       "      <td>Gangdong-gu</td>\n",
       "      <td>37.530492</td>\n",
       "      <td>127.123837</td>\n",
       "      <td>27</td>\n",
       "      <td>32</td>\n",
       "      <td>0</td>\n",
       "      <td>1.54</td>\n",
       "      <td>14.55</td>\n",
       "      <td>5.4</td>\n",
       "      <td>1023</td>\n",
       "    </tr>\n",
       "    <tr>\n",
       "      <th>3</th>\n",
       "      <td>10030</td>\n",
       "      <td>Seoul</td>\n",
       "      <td>Gangbuk-gu</td>\n",
       "      <td>37.639938</td>\n",
       "      <td>127.025508</td>\n",
       "      <td>14</td>\n",
       "      <td>21</td>\n",
       "      <td>0</td>\n",
       "      <td>0.67</td>\n",
       "      <td>19.49</td>\n",
       "      <td>8.5</td>\n",
       "      <td>628</td>\n",
       "    </tr>\n",
       "    <tr>\n",
       "      <th>4</th>\n",
       "      <td>10040</td>\n",
       "      <td>Seoul</td>\n",
       "      <td>Gangseo-gu</td>\n",
       "      <td>37.551166</td>\n",
       "      <td>126.849506</td>\n",
       "      <td>36</td>\n",
       "      <td>56</td>\n",
       "      <td>1</td>\n",
       "      <td>1.17</td>\n",
       "      <td>14.39</td>\n",
       "      <td>5.7</td>\n",
       "      <td>1080</td>\n",
       "    </tr>\n",
       "    <tr>\n",
       "      <th>5</th>\n",
       "      <td>10050</td>\n",
       "      <td>Seoul</td>\n",
       "      <td>Gwanak-gu</td>\n",
       "      <td>37.478290</td>\n",
       "      <td>126.951502</td>\n",
       "      <td>22</td>\n",
       "      <td>33</td>\n",
       "      <td>1</td>\n",
       "      <td>0.89</td>\n",
       "      <td>15.12</td>\n",
       "      <td>4.9</td>\n",
       "      <td>909</td>\n",
       "    </tr>\n",
       "    <tr>\n",
       "      <th>6</th>\n",
       "      <td>10060</td>\n",
       "      <td>Seoul</td>\n",
       "      <td>Gwangjin-gu</td>\n",
       "      <td>37.538712</td>\n",
       "      <td>127.082366</td>\n",
       "      <td>22</td>\n",
       "      <td>33</td>\n",
       "      <td>3</td>\n",
       "      <td>1.16</td>\n",
       "      <td>13.75</td>\n",
       "      <td>4.8</td>\n",
       "      <td>723</td>\n",
       "    </tr>\n",
       "    <tr>\n",
       "      <th>7</th>\n",
       "      <td>10070</td>\n",
       "      <td>Seoul</td>\n",
       "      <td>Guro-gu</td>\n",
       "      <td>37.495632</td>\n",
       "      <td>126.887650</td>\n",
       "      <td>26</td>\n",
       "      <td>34</td>\n",
       "      <td>3</td>\n",
       "      <td>1.00</td>\n",
       "      <td>16.21</td>\n",
       "      <td>5.7</td>\n",
       "      <td>741</td>\n",
       "    </tr>\n",
       "    <tr>\n",
       "      <th>8</th>\n",
       "      <td>10080</td>\n",
       "      <td>Seoul</td>\n",
       "      <td>Geumcheon-gu</td>\n",
       "      <td>37.456852</td>\n",
       "      <td>126.895229</td>\n",
       "      <td>18</td>\n",
       "      <td>19</td>\n",
       "      <td>0</td>\n",
       "      <td>0.96</td>\n",
       "      <td>16.15</td>\n",
       "      <td>6.7</td>\n",
       "      <td>475</td>\n",
       "    </tr>\n",
       "    <tr>\n",
       "      <th>9</th>\n",
       "      <td>10090</td>\n",
       "      <td>Seoul</td>\n",
       "      <td>Nowon-gu</td>\n",
       "      <td>37.654259</td>\n",
       "      <td>127.056294</td>\n",
       "      <td>42</td>\n",
       "      <td>66</td>\n",
       "      <td>6</td>\n",
       "      <td>1.39</td>\n",
       "      <td>15.40</td>\n",
       "      <td>7.4</td>\n",
       "      <td>952</td>\n",
       "    </tr>\n",
       "  </tbody>\n",
       "</table>\n",
       "</div>"
      ],
      "text/plain": [
       "    code province          city   latitude   longitude  \\\n",
       "0  10000    Seoul         Seoul  37.566953  126.977977   \n",
       "1  10010    Seoul    Gangnam-gu  37.518421  127.047222   \n",
       "2  10020    Seoul   Gangdong-gu  37.530492  127.123837   \n",
       "3  10030    Seoul    Gangbuk-gu  37.639938  127.025508   \n",
       "4  10040    Seoul    Gangseo-gu  37.551166  126.849506   \n",
       "5  10050    Seoul     Gwanak-gu  37.478290  126.951502   \n",
       "6  10060    Seoul   Gwangjin-gu  37.538712  127.082366   \n",
       "7  10070    Seoul       Guro-gu  37.495632  126.887650   \n",
       "8  10080    Seoul  Geumcheon-gu  37.456852  126.895229   \n",
       "9  10090    Seoul      Nowon-gu  37.654259  127.056294   \n",
       "\n",
       "   elementary_school_count  kindergarten_count  university_count  \\\n",
       "0                      607                 830                48   \n",
       "1                       33                  38                 0   \n",
       "2                       27                  32                 0   \n",
       "3                       14                  21                 0   \n",
       "4                       36                  56                 1   \n",
       "5                       22                  33                 1   \n",
       "6                       22                  33                 3   \n",
       "7                       26                  34                 3   \n",
       "8                       18                  19                 0   \n",
       "9                       42                  66                 6   \n",
       "\n",
       "   academy_ratio  elderly_population_ratio  elderly_alone_ratio  \\\n",
       "0           1.44                     15.38                  5.8   \n",
       "1           4.18                     13.17                  4.3   \n",
       "2           1.54                     14.55                  5.4   \n",
       "3           0.67                     19.49                  8.5   \n",
       "4           1.17                     14.39                  5.7   \n",
       "5           0.89                     15.12                  4.9   \n",
       "6           1.16                     13.75                  4.8   \n",
       "7           1.00                     16.21                  5.7   \n",
       "8           0.96                     16.15                  6.7   \n",
       "9           1.39                     15.40                  7.4   \n",
       "\n",
       "   nursing_home_count  \n",
       "0               22739  \n",
       "1                3088  \n",
       "2                1023  \n",
       "3                 628  \n",
       "4                1080  \n",
       "5                 909  \n",
       "6                 723  \n",
       "7                 741  \n",
       "8                 475  \n",
       "9                 952  "
      ]
     },
     "execution_count": 18,
     "metadata": {},
     "output_type": "execute_result"
    }
   ],
   "source": [
    "regions = spark.read.load(\"./data/Region.csv\",\n",
    "                          format=\"csv\", \n",
    "                          sep=\",\", \n",
    "                          inferSchema=\"true\", \n",
    "                          header=\"true\")\n",
    "\n",
    "regions.limit(10).toPandas()"
   ]
  },
  {
   "cell_type": "code",
   "execution_count": 19,
   "metadata": {},
   "outputs": [
    {
     "data": {
      "text/html": [
       "<div>\n",
       "<style scoped>\n",
       "    .dataframe tbody tr th:only-of-type {\n",
       "        vertical-align: middle;\n",
       "    }\n",
       "\n",
       "    .dataframe tbody tr th {\n",
       "        vertical-align: top;\n",
       "    }\n",
       "\n",
       "    .dataframe thead th {\n",
       "        text-align: right;\n",
       "    }\n",
       "</style>\n",
       "<table border=\"1\" class=\"dataframe\">\n",
       "  <thead>\n",
       "    <tr style=\"text-align: right;\">\n",
       "      <th></th>\n",
       "      <th>province</th>\n",
       "      <th>city</th>\n",
       "      <th>infection_case</th>\n",
       "      <th>confirmed</th>\n",
       "      <th>code</th>\n",
       "      <th>latitude</th>\n",
       "      <th>longitude</th>\n",
       "      <th>elementary_school_count</th>\n",
       "      <th>kindergarten_count</th>\n",
       "      <th>university_count</th>\n",
       "      <th>academy_ratio</th>\n",
       "      <th>elderly_population_ratio</th>\n",
       "      <th>elderly_alone_ratio</th>\n",
       "      <th>nursing_home_count</th>\n",
       "    </tr>\n",
       "  </thead>\n",
       "  <tbody>\n",
       "    <tr>\n",
       "      <th>0</th>\n",
       "      <td>Seoul</td>\n",
       "      <td>Yongsan-gu</td>\n",
       "      <td>Itaewon Clubs</td>\n",
       "      <td>139</td>\n",
       "      <td>10210.0</td>\n",
       "      <td>37.532768</td>\n",
       "      <td>126.990021</td>\n",
       "      <td>15.0</td>\n",
       "      <td>13.0</td>\n",
       "      <td>1.0</td>\n",
       "      <td>0.68</td>\n",
       "      <td>16.87</td>\n",
       "      <td>6.5</td>\n",
       "      <td>435.0</td>\n",
       "    </tr>\n",
       "    <tr>\n",
       "      <th>1</th>\n",
       "      <td>Seoul</td>\n",
       "      <td>Gwanak-gu</td>\n",
       "      <td>Richway</td>\n",
       "      <td>119</td>\n",
       "      <td>10050.0</td>\n",
       "      <td>37.478290</td>\n",
       "      <td>126.951502</td>\n",
       "      <td>22.0</td>\n",
       "      <td>33.0</td>\n",
       "      <td>1.0</td>\n",
       "      <td>0.89</td>\n",
       "      <td>15.12</td>\n",
       "      <td>4.9</td>\n",
       "      <td>909.0</td>\n",
       "    </tr>\n",
       "    <tr>\n",
       "      <th>2</th>\n",
       "      <td>Seoul</td>\n",
       "      <td>Guro-gu</td>\n",
       "      <td>Guro-gu Call Center</td>\n",
       "      <td>95</td>\n",
       "      <td>10070.0</td>\n",
       "      <td>37.495632</td>\n",
       "      <td>126.887650</td>\n",
       "      <td>26.0</td>\n",
       "      <td>34.0</td>\n",
       "      <td>3.0</td>\n",
       "      <td>1.00</td>\n",
       "      <td>16.21</td>\n",
       "      <td>5.7</td>\n",
       "      <td>741.0</td>\n",
       "    </tr>\n",
       "    <tr>\n",
       "      <th>3</th>\n",
       "      <td>Seoul</td>\n",
       "      <td>Yangcheon-gu</td>\n",
       "      <td>Yangcheon Table Tennis Club</td>\n",
       "      <td>43</td>\n",
       "      <td>10190.0</td>\n",
       "      <td>37.517189</td>\n",
       "      <td>126.866618</td>\n",
       "      <td>30.0</td>\n",
       "      <td>43.0</td>\n",
       "      <td>0.0</td>\n",
       "      <td>2.26</td>\n",
       "      <td>13.55</td>\n",
       "      <td>5.5</td>\n",
       "      <td>816.0</td>\n",
       "    </tr>\n",
       "    <tr>\n",
       "      <th>4</th>\n",
       "      <td>Seoul</td>\n",
       "      <td>Dobong-gu</td>\n",
       "      <td>Day Care Center</td>\n",
       "      <td>43</td>\n",
       "      <td>10100.0</td>\n",
       "      <td>37.668952</td>\n",
       "      <td>127.047082</td>\n",
       "      <td>23.0</td>\n",
       "      <td>26.0</td>\n",
       "      <td>1.0</td>\n",
       "      <td>0.95</td>\n",
       "      <td>17.89</td>\n",
       "      <td>7.2</td>\n",
       "      <td>485.0</td>\n",
       "    </tr>\n",
       "    <tr>\n",
       "      <th>5</th>\n",
       "      <td>Seoul</td>\n",
       "      <td>Guro-gu</td>\n",
       "      <td>Manmin Central Church</td>\n",
       "      <td>41</td>\n",
       "      <td>10070.0</td>\n",
       "      <td>37.495632</td>\n",
       "      <td>126.887650</td>\n",
       "      <td>26.0</td>\n",
       "      <td>34.0</td>\n",
       "      <td>3.0</td>\n",
       "      <td>1.00</td>\n",
       "      <td>16.21</td>\n",
       "      <td>5.7</td>\n",
       "      <td>741.0</td>\n",
       "    </tr>\n",
       "    <tr>\n",
       "      <th>6</th>\n",
       "      <td>Seoul</td>\n",
       "      <td>from other city</td>\n",
       "      <td>SMR Newly Planted Churches Group</td>\n",
       "      <td>36</td>\n",
       "      <td>NaN</td>\n",
       "      <td>NaN</td>\n",
       "      <td>NaN</td>\n",
       "      <td>NaN</td>\n",
       "      <td>NaN</td>\n",
       "      <td>NaN</td>\n",
       "      <td>NaN</td>\n",
       "      <td>NaN</td>\n",
       "      <td>NaN</td>\n",
       "      <td>NaN</td>\n",
       "    </tr>\n",
       "    <tr>\n",
       "      <th>7</th>\n",
       "      <td>Seoul</td>\n",
       "      <td>Dongdaemun-gu</td>\n",
       "      <td>Dongan Church</td>\n",
       "      <td>17</td>\n",
       "      <td>10110.0</td>\n",
       "      <td>37.574552</td>\n",
       "      <td>127.039721</td>\n",
       "      <td>21.0</td>\n",
       "      <td>31.0</td>\n",
       "      <td>4.0</td>\n",
       "      <td>1.06</td>\n",
       "      <td>17.26</td>\n",
       "      <td>6.7</td>\n",
       "      <td>832.0</td>\n",
       "    </tr>\n",
       "    <tr>\n",
       "      <th>8</th>\n",
       "      <td>Seoul</td>\n",
       "      <td>from other city</td>\n",
       "      <td>Coupang Logistics Center</td>\n",
       "      <td>25</td>\n",
       "      <td>NaN</td>\n",
       "      <td>NaN</td>\n",
       "      <td>NaN</td>\n",
       "      <td>NaN</td>\n",
       "      <td>NaN</td>\n",
       "      <td>NaN</td>\n",
       "      <td>NaN</td>\n",
       "      <td>NaN</td>\n",
       "      <td>NaN</td>\n",
       "      <td>NaN</td>\n",
       "    </tr>\n",
       "    <tr>\n",
       "      <th>9</th>\n",
       "      <td>Seoul</td>\n",
       "      <td>Gwanak-gu</td>\n",
       "      <td>Wangsung Church</td>\n",
       "      <td>30</td>\n",
       "      <td>10050.0</td>\n",
       "      <td>37.478290</td>\n",
       "      <td>126.951502</td>\n",
       "      <td>22.0</td>\n",
       "      <td>33.0</td>\n",
       "      <td>1.0</td>\n",
       "      <td>0.89</td>\n",
       "      <td>15.12</td>\n",
       "      <td>4.9</td>\n",
       "      <td>909.0</td>\n",
       "    </tr>\n",
       "  </tbody>\n",
       "</table>\n",
       "</div>"
      ],
      "text/plain": [
       "  province             city                    infection_case  confirmed  \\\n",
       "0    Seoul       Yongsan-gu                     Itaewon Clubs        139   \n",
       "1    Seoul        Gwanak-gu                           Richway        119   \n",
       "2    Seoul          Guro-gu               Guro-gu Call Center         95   \n",
       "3    Seoul     Yangcheon-gu       Yangcheon Table Tennis Club         43   \n",
       "4    Seoul        Dobong-gu                   Day Care Center         43   \n",
       "5    Seoul          Guro-gu             Manmin Central Church         41   \n",
       "6    Seoul  from other city  SMR Newly Planted Churches Group         36   \n",
       "7    Seoul    Dongdaemun-gu                     Dongan Church         17   \n",
       "8    Seoul  from other city          Coupang Logistics Center         25   \n",
       "9    Seoul        Gwanak-gu                   Wangsung Church         30   \n",
       "\n",
       "      code   latitude   longitude  elementary_school_count  \\\n",
       "0  10210.0  37.532768  126.990021                     15.0   \n",
       "1  10050.0  37.478290  126.951502                     22.0   \n",
       "2  10070.0  37.495632  126.887650                     26.0   \n",
       "3  10190.0  37.517189  126.866618                     30.0   \n",
       "4  10100.0  37.668952  127.047082                     23.0   \n",
       "5  10070.0  37.495632  126.887650                     26.0   \n",
       "6      NaN        NaN         NaN                      NaN   \n",
       "7  10110.0  37.574552  127.039721                     21.0   \n",
       "8      NaN        NaN         NaN                      NaN   \n",
       "9  10050.0  37.478290  126.951502                     22.0   \n",
       "\n",
       "   kindergarten_count  university_count  academy_ratio  \\\n",
       "0                13.0               1.0           0.68   \n",
       "1                33.0               1.0           0.89   \n",
       "2                34.0               3.0           1.00   \n",
       "3                43.0               0.0           2.26   \n",
       "4                26.0               1.0           0.95   \n",
       "5                34.0               3.0           1.00   \n",
       "6                 NaN               NaN            NaN   \n",
       "7                31.0               4.0           1.06   \n",
       "8                 NaN               NaN            NaN   \n",
       "9                33.0               1.0           0.89   \n",
       "\n",
       "   elderly_population_ratio  elderly_alone_ratio  nursing_home_count  \n",
       "0                     16.87                  6.5               435.0  \n",
       "1                     15.12                  4.9               909.0  \n",
       "2                     16.21                  5.7               741.0  \n",
       "3                     13.55                  5.5               816.0  \n",
       "4                     17.89                  7.2               485.0  \n",
       "5                     16.21                  5.7               741.0  \n",
       "6                       NaN                  NaN                 NaN  \n",
       "7                     17.26                  6.7               832.0  \n",
       "8                       NaN                  NaN                 NaN  \n",
       "9                     15.12                  4.9               909.0  "
      ]
     },
     "execution_count": 19,
     "metadata": {},
     "output_type": "execute_result"
    }
   ],
   "source": [
    "# Left Join 'Case' with 'Region' on Province and City column\n",
    "cases = cases.join(regions, ['province','city'],how='left')\n",
    "cases.limit(10).toPandas()"
   ]
  },
  {
   "cell_type": "markdown",
   "metadata": {},
   "source": [
    "### 2. Use SQL with DataFrames"
   ]
  },
  {
   "cell_type": "markdown",
   "metadata": {},
   "source": [
    "We first register the cases dataframe to a temporary table cases_table on which we can run SQL operations. As you can see, the result of the SQL select statement is again a Spark Dataframe.\n",
    "\n",
    "All complex SQL queries like GROUP BY, HAVING, AND ORDER BY clauses can be applied in 'Sql' function"
   ]
  },
  {
   "cell_type": "code",
   "execution_count": 20,
   "metadata": {},
   "outputs": [
    {
     "name": "stderr",
     "output_type": "stream",
     "text": [
      "C:\\Users\\Utsav\\Downloads\\venv\\lib\\site-packages\\pyspark\\sql\\dataframe.py:229: FutureWarning: Deprecated in 2.0, use createOrReplaceTempView instead.\n",
      "  warnings.warn(\"Deprecated in 2.0, use createOrReplaceTempView instead.\", FutureWarning)\n"
     ]
    },
    {
     "name": "stdout",
     "output_type": "stream",
     "text": [
      "+-----------------+---------------+--------------------+---------+-----+---------+----------+-----------------------+------------------+----------------+-------------+------------------------+-------------------+------------------+\n",
      "|         province|           city|      infection_case|confirmed| code| latitude| longitude|elementary_school_count|kindergarten_count|university_count|academy_ratio|elderly_population_ratio|elderly_alone_ratio|nursing_home_count|\n",
      "+-----------------+---------------+--------------------+---------+-----+---------+----------+-----------------------+------------------+----------------+-------------+------------------------+-------------------+------------------+\n",
      "|            Seoul|     Yongsan-gu|       Itaewon Clubs|      139|10210|37.532768|126.990021|                     15|                13|               1|         0.68|                   16.87|                6.5|               435|\n",
      "|            Seoul|      Gwanak-gu|             Richway|      119|10050| 37.47829|126.951502|                     22|                33|               1|         0.89|                   15.12|                4.9|               909|\n",
      "|            Seoul|              -|     overseas inflow|      298| null|     null|      null|                   null|              null|            null|         null|                    null|               null|              null|\n",
      "|            Seoul|              -|contact with patient|      162| null|     null|      null|                   null|              null|            null|         null|                    null|               null|              null|\n",
      "|            Daegu|         Nam-gu|  Shincheonji Church|     4511|12010|  35.8463|128.597723|                     11|                15|               2|         0.85|                   22.49|               10.4|               345|\n",
      "|            Daegu|   Dalseong-gun|Second Mi-Ju Hosp...|      196|12030| 35.77475|128.431314|                     32|                47|               1|         1.51|                   12.11|                5.4|               361|\n",
      "|            Daegu|         Seo-gu|Hansarang Convale...|      124|12060|35.871993|128.559182|                     17|                23|               0|         0.83|                   21.29|               10.1|               374|\n",
      "|            Daegu|   Dalseong-gun|Daesil Convalesce...|      101|12030| 35.77475|128.431314|                     32|                47|               1|         1.51|                   12.11|                5.4|               361|\n",
      "|            Daegu|              -|contact with patient|      917| null|     null|      null|                   null|              null|            null|         null|                    null|               null|              null|\n",
      "|            Daegu|              -|                 etc|      747| null|     null|      null|                   null|              null|            null|         null|                    null|               null|              null|\n",
      "|      Gyeonggi-do|              -|     overseas inflow|      305| null|     null|      null|                   null|              null|            null|         null|                    null|               null|              null|\n",
      "|Chungcheongnam-do|     Cheonan-si|gym facility in C...|      103|41120| 36.81498|127.113868|                     75|               112|               6|         1.91|                   10.42|                4.5|              1069|\n",
      "| Gyeongsangbuk-do|from other city|  Shincheonji Church|      566| null|     null|      null|                   null|              null|            null|         null|                    null|               null|              null|\n",
      "| Gyeongsangbuk-do|   Cheongdo-gun|Cheongdo Daenam H...|      119|60200|35.647361|128.734382|                     11|                14|               0|         0.63|                   36.55|               21.0|                85|\n",
      "| Gyeongsangbuk-do|              -|contact with patient|      190| null|     null|      null|                   null|              null|            null|         null|                    null|               null|              null|\n",
      "| Gyeongsangbuk-do|              -|                 etc|      133| null|     null|      null|                   null|              null|            null|         null|                    null|               null|              null|\n",
      "+-----------------+---------------+--------------------+---------+-----+---------+----------+-----------------------+------------------+----------------+-------------+------------------------+-------------------+------------------+\n",
      "\n"
     ]
    }
   ],
   "source": [
    "cases.registerTempTable('cases_table')\n",
    "newDF = spark.sql('select * from cases_table where confirmed > 100')\n",
    "newDF.show()"
   ]
  },
  {
   "cell_type": "markdown",
   "metadata": {},
   "source": [
    "### 3. Create New Columns"
   ]
  },
  {
   "cell_type": "markdown",
   "metadata": {},
   "source": [
    "There are many ways that you can use to create a column in a PySpark Dataframe."
   ]
  },
  {
   "cell_type": "markdown",
   "metadata": {},
   "source": [
    "#### [1] Using Spark Native Functions"
   ]
  },
  {
   "cell_type": "markdown",
   "metadata": {},
   "source": [
    "We can use .withcolumn along with PySpark SQL functions to create a new column. In essence, you can find String functions, Date functions, and Math functions already implemented using Spark functions. Our first function, the F.col function gives us access to the column. So if we wanted to add 100 to a column, we could use F.col as:"
   ]
  },
  {
   "cell_type": "code",
   "execution_count": 21,
   "metadata": {},
   "outputs": [
    {
     "name": "stdout",
     "output_type": "stream",
     "text": [
      "+--------+---------------+--------------------+---------+-----+---------+----------+-----------------------+------------------+----------------+-------------+------------------------+-------------------+------------------+------------+\n",
      "|province|           city|      infection_case|confirmed| code| latitude| longitude|elementary_school_count|kindergarten_count|university_count|academy_ratio|elderly_population_ratio|elderly_alone_ratio|nursing_home_count|NewConfirmed|\n",
      "+--------+---------------+--------------------+---------+-----+---------+----------+-----------------------+------------------+----------------+-------------+------------------------+-------------------+------------------+------------+\n",
      "|   Seoul|     Yongsan-gu|       Itaewon Clubs|      139|10210|37.532768|126.990021|                     15|                13|               1|         0.68|                   16.87|                6.5|               435|         239|\n",
      "|   Seoul|      Gwanak-gu|             Richway|      119|10050| 37.47829|126.951502|                     22|                33|               1|         0.89|                   15.12|                4.9|               909|         219|\n",
      "|   Seoul|        Guro-gu| Guro-gu Call Center|       95|10070|37.495632| 126.88765|                     26|                34|               3|          1.0|                   16.21|                5.7|               741|         195|\n",
      "|   Seoul|   Yangcheon-gu|Yangcheon Table T...|       43|10190|37.517189|126.866618|                     30|                43|               0|         2.26|                   13.55|                5.5|               816|         143|\n",
      "|   Seoul|      Dobong-gu|     Day Care Center|       43|10100|37.668952|127.047082|                     23|                26|               1|         0.95|                   17.89|                7.2|               485|         143|\n",
      "|   Seoul|        Guro-gu|Manmin Central Ch...|       41|10070|37.495632| 126.88765|                     26|                34|               3|          1.0|                   16.21|                5.7|               741|         141|\n",
      "|   Seoul|from other city|SMR Newly Planted...|       36| null|     null|      null|                   null|              null|            null|         null|                    null|               null|              null|         136|\n",
      "|   Seoul|  Dongdaemun-gu|       Dongan Church|       17|10110|37.574552|127.039721|                     21|                31|               4|         1.06|                   17.26|                6.7|               832|         117|\n",
      "|   Seoul|from other city|Coupang Logistics...|       25| null|     null|      null|                   null|              null|            null|         null|                    null|               null|              null|         125|\n",
      "|   Seoul|      Gwanak-gu|     Wangsung Church|       30|10050| 37.47829|126.951502|                     22|                33|               1|         0.89|                   15.12|                4.9|               909|         130|\n",
      "|   Seoul|   Eunpyeong-gu|Eunpyeong St. Mar...|       14|10220|37.603481|126.929173|                     31|                44|               1|         1.09|                    17.0|                6.5|               874|         114|\n",
      "|   Seoul|   Seongdong-gu|    Seongdong-gu APT|       13|10160|37.563277|127.036647|                     21|                30|               2|         0.97|                   14.76|                5.3|               593|         113|\n",
      "|   Seoul|      Jongno-gu|Jongno Community ...|       10|10230|37.572999|126.979189|                     13|                17|               3|         1.71|                   18.27|                6.8|               668|         110|\n",
      "|   Seoul|     Gangnam-gu|Samsung Medical C...|        7|10010|37.518421|127.047222|                     33|                38|               0|         4.18|                   13.17|                4.3|              3088|         107|\n",
      "|   Seoul|        Jung-gu|Jung-gu Fashion C...|        7|10240|37.563988| 126.99753|                     12|                14|               2|         0.94|                   18.42|                7.4|               728|         107|\n",
      "|   Seoul|   Seodaemun-gu|  Yeonana News Class|        5|10140|37.579428|126.936771|                     19|                25|               6|         1.12|                   16.77|                6.2|               587|         105|\n",
      "|   Seoul|      Jongno-gu|Korea Campus Crus...|        7|10230|37.572999|126.979189|                     13|                17|               3|         1.71|                   18.27|                6.8|               668|         107|\n",
      "|   Seoul|     Gangnam-gu|Gangnam Yeoksam-d...|        6|10010|37.518421|127.047222|                     33|                38|               0|         4.18|                   13.17|                4.3|              3088|         106|\n",
      "|   Seoul|from other city|Daejeon door-to-d...|        1| null|     null|      null|                   null|              null|            null|         null|                    null|               null|              null|         101|\n",
      "|   Seoul|   Geumcheon-gu|Geumcheon-gu rice...|        6|10080|37.456852|126.895229|                     18|                19|               0|         0.96|                   16.15|                6.7|               475|         106|\n",
      "+--------+---------------+--------------------+---------+-----+---------+----------+-----------------------+------------------+----------------+-------------+------------------------+-------------------+------------------+------------+\n",
      "only showing top 20 rows\n",
      "\n"
     ]
    }
   ],
   "source": [
    "import pyspark.sql.functions as F\n",
    "\n",
    "casesWithNewConfirmed = cases.withColumn(\"NewConfirmed\", 100 + F.col(\"confirmed\"))\n",
    "casesWithNewConfirmed.show()"
   ]
  },
  {
   "cell_type": "markdown",
   "metadata": {},
   "source": [
    "Sometimes you might also want to repartition by a known scheme as this scheme might be used by a certain join or aggregation operation later on. You can use multiple columns to repartition using:"
   ]
  },
  {
   "cell_type": "markdown",
   "metadata": {},
   "source": [
    "### Close Spark Instance"
   ]
  },
  {
   "cell_type": "code",
   "execution_count": 18,
   "metadata": {},
   "outputs": [],
   "source": [
    "spark.stop()"
   ]
  },
  {
   "cell_type": "code",
   "execution_count": null,
   "metadata": {},
   "outputs": [],
   "source": []
  }
 ],
 "metadata": {
  "kernelspec": {
   "display_name": "Python 3 (ipykernel)",
   "language": "python",
   "name": "python3"
  },
  "language_info": {
   "codemirror_mode": {
    "name": "ipython",
    "version": 3
   },
   "file_extension": ".py",
   "mimetype": "text/x-python",
   "name": "python",
   "nbconvert_exporter": "python",
   "pygments_lexer": "ipython3",
   "version": "3.10.7"
  }
 },
 "nbformat": 4,
 "nbformat_minor": 4
}
